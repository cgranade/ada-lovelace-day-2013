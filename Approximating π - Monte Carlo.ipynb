{
 "metadata": {
  "name": ""
 },
 "nbformat": 3,
 "nbformat_minor": 0,
 "worksheets": [
  {
   "cells": [
    {
     "cell_type": "code",
     "collapsed": false,
     "input": [
      "%pylab inline\n",
      "from __future__ import division"
     ],
     "language": "python",
     "metadata": {},
     "outputs": [
      {
       "output_type": "stream",
       "stream": "stdout",
       "text": [
        "Populating the interactive namespace from numpy and matplotlib\n"
       ]
      }
     ],
     "prompt_number": 2
    },
    {
     "cell_type": "heading",
     "level": 1,
     "metadata": {},
     "source": [
      "Approximating $\\pi$ Using Monte Carlo"
     ]
    },
    {
     "cell_type": "markdown",
     "metadata": {},
     "source": [
      "Computers can be used to approximate the value of $\\pi$ in many different ways. One of the simplest is the *Monte Carlo* method, where one randomly picks points inside of a square, and see which ones lay inside of a circle and which ones don't.\n",
      "\n",
      "In the picture below, the circle has area $\\pi$, while the square has area $4$, so if we randomly pick a point inside the square, the chance that it will lie inside the circle as well is $\\pi / 4$."
     ]
    },
    {
     "cell_type": "code",
     "collapsed": false,
     "input": [
      "figure(figsize=(5,5))\n",
      "xlim(-1.1, 1.1)\n",
      "ylim(-1.1, 1.1)\n",
      "plot([-1, -1, 1, 1, -1], [-1, 1, 1, -1, -1], 'b-');\n",
      "\n",
      "xs = []\n",
      "ys = []\n",
      "for theta in linspace(0, 2*pi, 100):\n",
      "    xs.append(cos(theta))\n",
      "    ys.append(sin(theta))\n",
      "plot(xs, ys, 'r-')"
     ],
     "language": "python",
     "metadata": {},
     "outputs": [
      {
       "metadata": {},
       "output_type": "pyout",
       "prompt_number": 3,
       "text": [
        "[<matplotlib.lines.Line2D at 0x2b30e10>]"
       ]
      },
      {
       "metadata": {},
       "output_type": "display_data",
       "png": "[encoded data removed]",
       "text": [
        "<matplotlib.figure.Figure at 0x2a6dbd0>"
       ]
      }
     ],
     "prompt_number": 3
    },
    {
     "cell_type": "markdown",
     "metadata": {},
     "source": [
      "To approximate $\\pi$, then, we need to break the problem down into three steps:\n",
      "\n",
      "- Pick random points in the square.\n",
      "- Decide which points lie within the circle.\n",
      "- Count how many points were inside the circle, divide by the number of total points and multiply by four to get $\\pi$."
     ]
    },
    {
     "cell_type": "heading",
     "level": 2,
     "metadata": {},
     "source": [
      "Picking Random Points"
     ]
    },
    {
     "cell_type": "markdown",
     "metadata": {},
     "source": [
      "Let's start with the first step. The NumPy function `rand` returns a random number between 0 and 1 when called, but we want a random number between -1 and 1. To get this, we need to double the random number NumPy gives us (making it range from 0 and 2), then subtract 1.\n",
      "\n",
      "It's easiest to make a function to do this, so we do so using the `def` keyword:"
     ]
    },
    {
     "cell_type": "code",
     "collapsed": false,
     "input": [
      "def random_point():\n",
      "    return 2 * rand() - 1, 2 * rand() - 1"
     ],
     "language": "python",
     "metadata": {},
     "outputs": [],
     "prompt_number": 4
    },
    {
     "cell_type": "markdown",
     "metadata": {},
     "source": [
      "Let's see how well this worked!"
     ]
    },
    {
     "cell_type": "code",
     "collapsed": false,
     "input": [
      "xs = []\n",
      "ys = []\n",
      "for idx in xrange(100):\n",
      "    x, y = random_point()\n",
      "    xs.append(x)\n",
      "    ys.append(y)\n",
      "    \n",
      "figure(figsize=(5,5))\n",
      "xlim(-1.1, 1.1)\n",
      "ylim(-1.1, 1.1)\n",
      "plot(xs, ys, 'bx');"
     ],
     "language": "python",
     "metadata": {},
     "outputs": [
      {
       "metadata": {},
       "output_type": "display_data",
       "png": "[encoded data removed]",
       "text": [
        "<matplotlib.figure.Figure at 0x2b22310>"
       ]
      }
     ],
     "prompt_number": 5
    },
    {
     "cell_type": "heading",
     "level": 2,
     "metadata": {},
     "source": [
      "Testing Points"
     ]
    },
    {
     "cell_type": "markdown",
     "metadata": {},
     "source": [
      "Now that we know how to make random points inside the square, we need to figure out how to check which ones lie inside of the circle. For this, we rely on the definition of what a circle is: the collection of points that lie within a given distance (called the *radius*) of the center. In our case, the radius is 1, and the center is the origin ($x = 0$ and $y = 0$), so we just need to check how far points are from the origin.\n",
      "\n",
      "The distance of a point $(x,y)$ from the origin is defined using as $d = \\sqrt{x^2 + y^2}$ (motivated by the Pythagorean theorem), so let's write another function to calculate this:"
     ]
    },
    {
     "cell_type": "code",
     "collapsed": false,
     "input": [
      "def distance(x, y):\n",
      "    return sqrt(x**2 + y**2)"
     ],
     "language": "python",
     "metadata": {},
     "outputs": [],
     "prompt_number": 6
    },
    {
     "cell_type": "markdown",
     "metadata": {},
     "source": [
      "Now we can test individual points:"
     ]
    },
    {
     "cell_type": "code",
     "collapsed": false,
     "input": [
      "def test_point(x, y):\n",
      "    return distance(x, y) <= 1"
     ],
     "language": "python",
     "metadata": {},
     "outputs": [],
     "prompt_number": 7
    },
    {
     "cell_type": "markdown",
     "metadata": {},
     "source": [
      "We can test many points at once by using a loop. In Python, this is done with the `for` and `in` keywords. Very commonly, one loops with a line like `for idx in xrange(n):`, which causes the variable `idx` to take on as values the numbers from 0 to 299, counting in steps of 1. Thus, in the code below, we test three hundred points and add them to lists for plotting."
     ]
    },
    {
     "cell_type": "code",
     "collapsed": false,
     "input": [
      "inside_xs = []\n",
      "outside_xs = []\n",
      "inside_ys = []\n",
      "outside_ys = []\n",
      "for idx in xrange(300):\n",
      "    x, y = random_point()\n",
      "    if test_point(x, y):\n",
      "        inside_xs.append(x)\n",
      "        inside_ys.append(y)\n",
      "    else:\n",
      "        outside_xs.append(x)\n",
      "        outside_ys.append(y)\n",
      "    \n",
      "figure(figsize=(5,5))\n",
      "xlim(-1.1, 1.1)\n",
      "ylim(-1.1, 1.1)\n",
      "plot(outside_xs, outside_ys, 'bx');\n",
      "plot(inside_xs, inside_ys, 'rx');"
     ],
     "language": "python",
     "metadata": {},
     "outputs": [
      {
       "metadata": {},
       "output_type": "display_data",
       "png": "[encoded data removed]",
       "text": [
        "<matplotlib.figure.Figure at 0x2db04d0>"
       ]
      }
     ],
     "prompt_number": 8
    },
    {
     "cell_type": "markdown",
     "metadata": {},
     "source": [
      "Already you can kind of see the circle taking shape (pun totally intended), so our method is working!"
     ]
    },
    {
     "cell_type": "heading",
     "level": 3,
     "metadata": {},
     "source": [
      "Counting Points"
     ]
    },
    {
     "cell_type": "markdown",
     "metadata": {},
     "source": [
      "Now that we have all the pieces together, we can loop for a large number $N$\n",
      "(represented by the variable `n_points`),\n",
      "and each time:\n",
      "\n",
      "- Pick a random point.\n",
      "- Test if it's in the circle.\n",
      "- If so, count, otherwise do nothing.\n",
      "\n",
      "We'll use a variable `n_inside` to count how many points we've seen inside the circle. To count up, we'll use Python's `+=` operator, which adds the number on the right to the variable on the left."
     ]
    },
    {
     "cell_type": "code",
     "collapsed": false,
     "input": [
      "n_points = 1200\n",
      "n_inside = 0\n",
      "for idx in xrange(n_points):\n",
      "    x, y = random_point()\n",
      "    if test_point(x, y):\n",
      "        n_inside += 1\n",
      "pi_ish = 4 * n_inside / n_points"
     ],
     "language": "python",
     "metadata": {},
     "outputs": [],
     "prompt_number": 9
    },
    {
     "cell_type": "markdown",
     "metadata": {},
     "source": [
      "How well did we do? Let's print out the values of our approximate $\\pi$, `pi_ish`, and the real value, `pi`."
     ]
    },
    {
     "cell_type": "code",
     "collapsed": false,
     "input": [
      "print pi_ish, pi"
     ],
     "language": "python",
     "metadata": {},
     "outputs": [
      {
       "output_type": "stream",
       "stream": "stdout",
       "text": [
        "3.12333333333 3.14159265359\n"
       ]
      }
     ],
     "prompt_number": 10
    },
    {
     "cell_type": "markdown",
     "metadata": {},
     "source": [
      "Not bad! Last, let's check how far off we are in percent:"
     ]
    },
    {
     "cell_type": "code",
     "collapsed": false,
     "input": [
      "print str(100 * abs(pi_ish - pi) / pi) + \"%\""
     ],
     "language": "python",
     "metadata": {},
     "outputs": [
      {
       "output_type": "stream",
       "stream": "stdout",
       "text": [
        "0.581212215263%\n"
       ]
      }
     ],
     "prompt_number": 11
    },
    {
     "cell_type": "markdown",
     "metadata": {},
     "source": [
      "Let's finish off by wrapping everything we've done inside a function, so we can quickly change the number of points and compare."
     ]
    },
    {
     "cell_type": "code",
     "collapsed": false,
     "input": [
      "def monte_carlo_pi(n_points):\n",
      "    n_inside = 0\n",
      "    for idx in xrange(n_points):\n",
      "        x, y = random_point()\n",
      "        if test_point(x, y):\n",
      "            n_inside += 1\n",
      "    return 4 * n_inside / n_points"
     ],
     "language": "python",
     "metadata": {},
     "outputs": [],
     "prompt_number": 12
    },
    {
     "cell_type": "markdown",
     "metadata": {},
     "source": [
      "While the Monte Carlo method works reasonably well and is simple to implement, it's not very fast. We can use the IPython \"magic command\" `%timeit` to get a good sense of how long it takes:"
     ]
    },
    {
     "cell_type": "code",
     "collapsed": false,
     "input": [
      "%timeit monte_carlo_pi(100000)"
     ],
     "language": "python",
     "metadata": {},
     "outputs": [
      {
       "output_type": "stream",
       "stream": "stdout",
       "text": [
        "1 loops, best of 3: 558 ms per loop\n"
       ]
      }
     ],
     "prompt_number": 13
    },
    {
     "cell_type": "code",
     "collapsed": false,
     "input": [],
     "language": "python",
     "metadata": {},
     "outputs": []
    }
   ],
   "metadata": {}
  }
 ]
}