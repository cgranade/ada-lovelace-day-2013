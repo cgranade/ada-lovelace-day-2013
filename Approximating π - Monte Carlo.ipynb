{
 "metadata": {
  "name": "Approximating \u03c0 - Monte Carlo"
 },
 "nbformat": 3,
 "nbformat_minor": 0,
 "worksheets": [
  {
   "cells": [
    {
     "cell_type": "code",
     "collapsed": false,
     "input": [
      "%pylab inline\n",
      "from __future__ import division"
     ],
     "language": "python",
     "metadata": {},
     "outputs": [
      {
       "output_type": "stream",
       "stream": "stdout",
       "text": [
        "\n",
        "Welcome to pylab, a matplotlib-based Python environment [backend: module://IPython.zmq.pylab.backend_inline].\n",
        "For more information, type 'help(pylab)'.\n"
       ]
      }
     ],
     "prompt_number": 1
    },
    {
     "cell_type": "heading",
     "level": 1,
     "metadata": {},
     "source": [
      "Approximating $\\pi$ Using Monte Carlo"
     ]
    },
    {
     "cell_type": "markdown",
     "metadata": {},
     "source": [
      "Computers can be used to approximate the value of $\\pi$ in many different ways. One of the simplest is the *Monte Carlo* method, where one randomly picks points inside of a square, and see which ones lay inside of a circle and which ones don't.\n",
      "\n",
      "In the picture below, the circle has area $\\pi$, while the square has area $4$, so if we randomly pick a point inside the square, the chance that it will lie inside the circle as well is $\\pi / 4$."
     ]
    },
    {
     "cell_type": "code",
     "collapsed": false,
     "input": [
      "figure(figsize=(5,5))\n",
      "xlim(-1.1, 1.1)\n",
      "ylim(-1.1, 1.1)\n",
      "plot([-1, -1, 1, 1, -1], [-1, 1, 1, -1, -1], 'b-');\n",
      "\n",
      "xs = []\n",
      "ys = []\n",
      "for theta in linspace(0, 2*pi, 100):\n",
      "    xs.append(cos(theta))\n",
      "    ys.append(sin(theta))\n",
      "plot(xs, ys, 'r-')"
     ],
     "language": "python",
     "metadata": {},
     "outputs": [
      {
       "output_type": "pyout",
       "prompt_number": 12,
       "text": [
        "[<matplotlib.lines.Line2D at 0x35dca90>]"
       ]
      },
      {
       "output_type": "display_data",
       "png": "[encoded data removed]"
      }
     ],
     "prompt_number": 12
    },
    {
     "cell_type": "markdown",
     "metadata": {},
     "source": [
      "To approximate $\\pi$, then, we need to break the problem down into three steps:\n",
      "\n",
      "- Pick random points in the square.\n",
      "- Decide which points lie within the circle.\n",
      "- Count how many points were inside the circle, divide by the number of total points and multiply by four to get $\\pi$."
     ]
    },
    {
     "cell_type": "heading",
     "level": 2,
     "metadata": {},
     "source": [
      "Picking Random Points"
     ]
    },
    {
     "cell_type": "markdown",
     "metadata": {},
     "source": [
      "Let's start with the first step. The NumPy function `rand` returns a random number between 0 and 1 when called, but we want a random number between -1 and 1. To get this, we need to double the random number NumPy gives us (making it range from 0 and 2), then subtract 1.\n",
      "\n",
      "It's easiest to make a function to do this, so we do so using the `def` keyword:"
     ]
    },
    {
     "cell_type": "code",
     "collapsed": false,
     "input": [
      "def random_point():\n",
      "    return 2 * rand() - 1, 2 * rand() - 1"
     ],
     "language": "python",
     "metadata": {},
     "outputs": [],
     "prompt_number": 15
    },
    {
     "cell_type": "markdown",
     "metadata": {},
     "source": [
      "Let's see how well this worked!"
     ]
    },
    {
     "cell_type": "code",
     "collapsed": false,
     "input": [
      "xs = []\n",
      "ys = []\n",
      "for idx in xrange(100):\n",
      "    x, y = random_point()\n",
      "    xs.append(x)\n",
      "    ys.append(y)\n",
      "    \n",
      "figure(figsize=(5,5))\n",
      "xlim(-1.1, 1.1)\n",
      "ylim(-1.1, 1.1)\n",
      "plot(xs, ys, 'bx');"
     ],
     "language": "python",
     "metadata": {},
     "outputs": [
      {
       "output_type": "display_data",
       "png": "[encoded data removed]"
      }
     ],
     "prompt_number": 19
    },
    {
     "cell_type": "heading",
     "level": 2,
     "metadata": {},
     "source": [
      "Testing Points"
     ]
    },
    {
     "cell_type": "markdown",
     "metadata": {},
     "source": [
      "Now that we know how to make random points inside the square, we need to figure out how to check which ones lie inside of the circle. For this, we rely on the definition of what a circle is: the collection of points that lie within a given distance (called the *radius*) of the center. In our case, the radius is 1, and the center is the origin ($x = 0$ and $y = 0$), so we just need to check how far points are from the origin.\n",
      "\n",
      "The distance of a point $(x,y)$ from the origin is defined using as $d = \\sqrt{x^2 + y^2}$ (motivated by the Pythagorean theorem), so let's write another function to calculate this:"
     ]
    },
    {
     "cell_type": "code",
     "collapsed": false,
     "input": [
      "def distance(x, y):\n",
      "    return sqrt(x**2 + y**2)"
     ],
     "language": "python",
     "metadata": {},
     "outputs": [],
     "prompt_number": 20
    },
    {
     "cell_type": "markdown",
     "metadata": {},
     "source": [
      "Now we can test individual points:"
     ]
    },
    {
     "cell_type": "code",
     "collapsed": false,
     "input": [
      "def test_point(x, y):\n",
      "    return distance(x, y) <= 1"
     ],
     "language": "python",
     "metadata": {},
     "outputs": [],
     "prompt_number": 22
    },
    {
     "cell_type": "code",
     "collapsed": false,
     "input": [
      "inside_xs = []\n",
      "outside_xs = []\n",
      "inside_ys = []\n",
      "outside_ys = []\n",
      "for idx in xrange(300):\n",
      "    x, y = random_point()\n",
      "    if test_point(x, y):\n",
      "        inside_xs.append(x)\n",
      "        inside_ys.append(y)\n",
      "    else:\n",
      "        outside_xs.append(x)\n",
      "        outside_ys.append(y)\n",
      "    \n",
      "figure(figsize=(5,5))\n",
      "xlim(-1.1, 1.1)\n",
      "ylim(-1.1, 1.1)\n",
      "plot(outside_xs, outside_ys, 'bx');\n",
      "plot(inside_xs, inside_ys, 'rx');"
     ],
     "language": "python",
     "metadata": {},
     "outputs": [
      {
       "output_type": "display_data",
       "png": "[encoded data removed]"
      }
     ],
     "prompt_number": 25
    },
    {
     "cell_type": "markdown",
     "metadata": {},
     "source": [
      "Already you can kind of see the circle taking shape (pun totally intended), so our method is working!"
     ]
    },
    {
     "cell_type": "heading",
     "level": 3,
     "metadata": {},
     "source": [
      "Counting Points"
     ]
    },
    {
     "cell_type": "code",
     "collapsed": false,
     "input": [
      "N = 1200\n",
      "N_inside = 0\n",
      "for idx in xrange(N):\n",
      "    x, y = random_point()\n",
      "    if test_point(x, y):\n",
      "        N_inside += 1\n",
      "pi_ish = 4 * N_inside / N\n",
      "print pi_ish, str(100 * abs(pi_ish - pi) / pi) + \"%\""
     ],
     "language": "python",
     "metadata": {},
     "outputs": [
      {
       "output_type": "stream",
       "stream": "stdout",
       "text": [
        "3.15666666667 0.479820738683%\n"
       ]
      }
     ],
     "prompt_number": 36
    },
    {
     "cell_type": "code",
     "collapsed": false,
     "input": [],
     "language": "python",
     "metadata": {},
     "outputs": []
    }
   ],
   "metadata": {}
  }
 ]
}