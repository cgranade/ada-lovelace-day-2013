{
 "metadata": {
  "name": ""
 },
 "nbformat": 3,
 "nbformat_minor": 0,
 "worksheets": [
  {
   "cells": [
    {
     "cell_type": "code",
     "collapsed": false,
     "input": [
      "%pylab inline\n",
      "from __future__ import division"
     ],
     "language": "python",
     "metadata": {},
     "outputs": [
      {
       "output_type": "stream",
       "stream": "stdout",
       "text": [
        "Populating the interactive namespace from numpy and matplotlib\n"
       ]
      }
     ],
     "prompt_number": 1
    },
    {
     "cell_type": "heading",
     "level": 1,
     "metadata": {},
     "source": [
      "Approximating $\\pi$ Using Polygons"
     ]
    },
    {
     "cell_type": "markdown",
     "metadata": {},
     "source": [
      "Another way to try to calculate the area of a circle is by placing a _regular polygon_ (a shape with sides of the same length, like a square or a pentagon) both inside and outside the circle, so that the corners of the polygon on the inside touch the circle, as do the sides of the polygon on the outside.\n",
      "\n",
      "Let's make a program to draw the circle and the polygons, so that you can see what I'm talking about. We're going to reuse the program that we made earlier to draw the square and circle in the \"Approximating $\\pi$ using Monte Carlo\" notebook."
     ]
    },
    {
     "cell_type": "code",
     "collapsed": false,
     "input": [
      "n_corners = 10"
     ],
     "language": "python",
     "metadata": {},
     "outputs": [],
     "prompt_number": 15
    },
    {
     "cell_type": "code",
     "collapsed": false,
     "input": [
      "figure(figsize=(5,5))\n",
      "\n",
      "r_out = 1./(cos(pi/n_corners))\n",
      "\n",
      "xlim(-r_out, r_out)\n",
      "ylim(-r_out, r_out)\n",
      "\n",
      "#Make a circle \n",
      "xs_circle = []\n",
      "ys_circle = []\n",
      "\n",
      "for theta in linspace(0, 2*pi, 100):\n",
      "    xs_circle.append(cos(theta))\n",
      "    ys_circle.append(sin(theta))\n",
      "\n",
      "plot(xs_circle, ys_circle, 'r-')\n",
      "\n",
      "#Make a pair of polygons, using the number n_corners\n",
      "xs_poly_in = []\n",
      "ys_poly_in = []\n",
      "xs_poly_out = []\n",
      "ys_poly_out = []\n",
      "\n",
      "for theta in linspace(0, 2*pi, n_corners+1):\n",
      "    xs_poly_in.append(cos(theta))\n",
      "    ys_poly_in.append(sin(theta))\n",
      "    xs_poly_out.append(r_out*cos(theta))\n",
      "    ys_poly_out.append(r_out*sin(theta))\n",
      "\n",
      "plot(xs_poly_in, ys_poly_in, 'b-')\n",
      "plot(xs_poly_out, ys_poly_out, 'b-')"
     ],
     "language": "python",
     "metadata": {},
     "outputs": [
      {
       "metadata": {},
       "output_type": "pyout",
       "prompt_number": 16,
       "text": [
        "[<matplotlib.lines.Line2D at 0x46bdad0>]"
       ]
      },
      {
       "metadata": {},
       "output_type": "display_data",
       "png": "[encoded data removed]",
       "text": [
        "<matplotlib.figure.Figure at 0x469af90>"
       ]
      }
     ],
     "prompt_number": 16
    },
    {
     "cell_type": "markdown",
     "metadata": {},
     "source": [
      "The perimeter of the circle is a little more than the perimeter of the inner polygon, since the straight lines that make up the polygon are shorter than the bits of the circle between the corners. Also, the perimeter of the circle is less than the perimeter of the outer polygon. This gives us a way to put _bounds_ on the value of $\\pi$, since the perimeter of the circle is $2\\pi$. This approximation gets more accurate with larger $n$ (go back and alter the value of `n_corners` above to see this for yourself)."
     ]
    },
    {
     "cell_type": "markdown",
     "metadata": {},
     "source": [
      "Archimedes figured out an easy way to get the perimeters of the $2n$-sided inner and outer polygons, given the perimeters of the inner and outer $n$-sided polygons. If the perimeter of the inner polygon is $p_{n(\\textrm{in})}$ and the perimeter of the outer polygon is $p_{n(\\textrm{out})}$, then:\n",
      "\n",
      "$p_{2n(\\textrm{out})}=\\dfrac{2p_{n(\\textrm{in})}p_{n(\\textrm{out})}}{p_{n(\\textrm{in})}+p_{n(\\textrm{out})}}$\n",
      "\n",
      "$p_{2n(\\textrm{in})} = \\sqrt{p_{2n(\\textrm{out})}p_{n(\\textrm{in})}}$\n",
      "\n",
      "Given an initial value for $n$, then, we can approximate $\\pi$ as well as we want, as long as we're willing to compute for long times. Let's choose an initial value $n = 4$. This gives us $p_{4(\\textrm{in})}=4\\sqrt{2}$ and $p_{4(\\textrm{out})}=8$. We approximate $\\pi$ by taking the average of the two perimeters and dividing by 2, giving an estimate of about $3.4$. Below, we refine this estimate, using the equations above. "
     ]
    },
    {
     "cell_type": "code",
     "collapsed": false,
     "input": [
      "def polygon_pi(n_doubles):\n",
      "\n",
      "    #Below, we put the \"initial\" perimeters, which we'll update below:\n",
      "    p_inner = 4.*sqrt(2.)\n",
      "    p_outer = 8\n",
      "\n",
      "    for idx in range(n_doubles):\n",
      "        p_outer = 2.*p_inner*p_outer/(p_inner+p_outer)\n",
      "        p_inner = sqrt(p_inner*p_outer)\n",
      "    \n",
      "    return (p_outer + p_inner)/4. #Average of perimeters, divided by 2. "
     ],
     "language": "python",
     "metadata": {},
     "outputs": [],
     "prompt_number": 26
    },
    {
     "cell_type": "markdown",
     "metadata": {},
     "source": [
      "Let's compare this method to the Monte Carlo approximation. The Monte Carlo algorithm took about 100000 points to achieve an error of 0.01, note that only 2 updates (or a 16-sided polygon) are necessary to achieve similar accuracy:"
     ]
    },
    {
     "cell_type": "code",
     "collapsed": false,
     "input": [
      "polygon_pi(2)"
     ],
     "language": "python",
     "metadata": {},
     "outputs": [
      {
       "metadata": {},
       "output_type": "pyout",
       "prompt_number": 32,
       "text": [
        "3.1520215151662905"
       ]
      }
     ],
     "prompt_number": 32
    },
    {
     "cell_type": "markdown",
     "metadata": {},
     "source": [
      "Let's use that `%timeit` command again, to see how fast it is:"
     ]
    },
    {
     "cell_type": "code",
     "collapsed": false,
     "input": [
      "%timeit polygon_pi(2)"
     ],
     "language": "python",
     "metadata": {},
     "outputs": [
      {
       "output_type": "stream",
       "stream": "stdout",
       "text": [
        "100000 loops, best of 3: 15.2 \u00b5s per loop\n"
       ]
      }
     ],
     "prompt_number": 33
    },
    {
     "cell_type": "markdown",
     "metadata": {},
     "source": [
      "Archimedes' algorithm is over 30000 times faster than the Monte Carlo algorithm. This is because it uses the special properties of circles and polygons, where the Monte Carlo algorithm doesn't, so that the computer doesn't have to do as much work in order to achieve the same accuracy.  "
     ]
    }
   ],
   "metadata": {}
  }
 ]
}