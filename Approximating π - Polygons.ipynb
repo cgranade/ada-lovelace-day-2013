{
 "metadata": {
  "name": ""
 },
 "nbformat": 3,
 "nbformat_minor": 0,
 "worksheets": [
  {
   "cells": [
    {
     "cell_type": "code",
     "collapsed": false,
     "input": [
      "%pylab inline\n",
      "from __future__ import division"
     ],
     "language": "python",
     "metadata": {},
     "outputs": [
      {
       "output_type": "stream",
       "stream": "stdout",
       "text": [
        "Populating the interactive namespace from numpy and matplotlib\n"
       ]
      }
     ],
     "prompt_number": 1
    },
    {
     "cell_type": "heading",
     "level": 1,
     "metadata": {},
     "source": [
      "Approximating $\\pi$ Using Polygons"
     ]
    },
    {
     "cell_type": "markdown",
     "metadata": {},
     "source": [
      "Another way to try to calculate the area of a circle is by placing a _regular polygon_ (a shape with sides of the same length, like a square or a pentagon) both inside and outside the circle, so that the corners of the polygon on the inside touch the circle, and the circle touches the sides of the polygon on the outside.\n",
      "\n",
      "Let's make a program to draw the circle and the polygons, so that you can see what I'm talking about. We're going to reuse the program that we made earlier to draw the square and circle in the \"Approximating $\\pi$ using Monte Carlo\" notebook."
     ]
    },
    {
     "cell_type": "code",
     "collapsed": false,
     "input": [
      "n_corners = 10"
     ],
     "language": "python",
     "metadata": {},
     "outputs": [],
     "prompt_number": 7
    },
    {
     "cell_type": "code",
     "collapsed": false,
     "input": [
      "figure(figsize=(5,5))\n",
      "xlim(-1.1, 1.1)\n",
      "ylim(-1.1, 1.1)\n",
      "\n",
      "#Make a circle \n",
      "xs_circle = []\n",
      "ys_circle = []\n",
      "\n",
      "for theta in linspace(0, 2*pi, 100):\n",
      "    xs_circle.append(cos(theta))\n",
      "    ys_circle.append(sin(theta))\n",
      "\n",
      "plot(xs_circle, ys_circle, 'r-')\n",
      "\n",
      "#Make a polygon, using the number n_corners\n",
      "xs_polygon = []\n",
      "ys_polygon = []\n",
      "\n",
      "for theta in linspace(0, 2*pi, n_corners+1):\n",
      "    xs_polygon.append(cos(theta))\n",
      "    ys_polygon.append(sin(theta))\n",
      "\n",
      "plot(xs_polygon, ys_polygon, 'b-')"
     ],
     "language": "python",
     "metadata": {},
     "outputs": [
      {
       "metadata": {},
       "output_type": "pyout",
       "prompt_number": 8,
       "text": [
        "[<matplotlib.lines.Line2D at 0x37d9850>]"
       ]
      },
      {
       "metadata": {},
       "output_type": "display_data",
       "png": "[encoded data removed]",
       "text": [
        "<matplotlib.figure.Figure at 0x36ba9d0>"
       ]
      }
     ],
     "prompt_number": 8
    },
    {
     "cell_type": "code",
     "collapsed": false,
     "input": [],
     "language": "python",
     "metadata": {},
     "outputs": []
    }
   ],
   "metadata": {}
  }
 ]
}