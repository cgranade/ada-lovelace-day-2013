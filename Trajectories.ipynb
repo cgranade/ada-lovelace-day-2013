{
 "metadata": {
  "name": ""
 },
 "nbformat": 3,
 "nbformat_minor": 0,
 "worksheets": [
  {
   "cells": [
    {
     "cell_type": "code",
     "collapsed": false,
     "input": [
      "%pylab inline\n",
      "from __future__ import division"
     ],
     "language": "python",
     "metadata": {},
     "outputs": [
      {
       "output_type": "stream",
       "stream": "stdout",
       "text": [
        "Populating the interactive namespace from numpy and matplotlib\n"
       ]
      }
     ],
     "prompt_number": 1
    },
    {
     "cell_type": "heading",
     "level": 1,
     "metadata": {},
     "source": [
      "Analysing Simple Trajectories"
     ]
    },
    {
     "cell_type": "markdown",
     "metadata": {},
     "source": [
      "Now let's have a little fun. Let's suppose we're trying to get a basketball in a hoop, and we can decide what angle and speed to use to throw it. Firstly, and least importantly, let's make sure we know how to draw a basketball:"
     ]
    },
    {
     "cell_type": "code",
     "collapsed": false,
     "input": [
      "bball_radius = 0.5\n",
      "bball_x = 0\n",
      "bball_y = 0\n",
      "bball_center = (bball_x, bball_y)\n",
      "\n",
      "fig=figure(figsize=(5,5))\n",
      "xlim(-2., 2.)\n",
      "ylim(-2., 2.)\n",
      "\n",
      "#Complicated, but adds an orange circle to the plot:\n",
      "fig.gca().add_artist(matplotlib.pyplot.Circle(bball_center, bball_radius, color = '#E08300'))\n",
      "#Now we plot some lines to make it look like a basketball:\n",
      "plot([bball_center[0]+bball_radius, bball_center[0]-bball_radius], [bball_center[1], bball_center[1]], \"k-\")\n",
      "plot([bball_center[0], bball_center[0]], [bball_center[1]+bball_radius, bball_center[1]-bball_radius], \"k-\")\n",
      "\n",
      "curve_up_y = bball_y + 1.5 * bball_radius \n",
      "curve_down_y = bball_y - 1.5 * bball_radius \n",
      "\n",
      "xs_up_curve = []\n",
      "ys_up_curve = []\n",
      "xs_down_curve = []\n",
      "ys_down_curve = []\n",
      "\n",
      "for theta in linspace(pi/2 - arccos(3./4.), pi/2 + arccos(3./4.), 100):\n",
      "    xs_down_curve.append(bball_radius * cos(theta) + bball_x)\n",
      "    ys_down_curve.append(bball_radius * sin(theta) + curve_down_y)\n",
      "\n",
      "for theta in linspace(3.*pi/2 - arccos(3./4.), 3.*pi/2 + arccos(3./4.), 100):\n",
      "    xs_up_curve.append(bball_radius * cos(theta) + bball_x)\n",
      "    ys_up_curve.append(bball_radius * sin(theta) + curve_up_y)\n",
      "\n",
      "    \n",
      "plot(xs_down_curve, ys_down_curve,'k-')\n",
      "plot(xs_up_curve, ys_up_curve,'k-')"
     ],
     "language": "python",
     "metadata": {},
     "outputs": [
      {
       "metadata": {},
       "output_type": "pyout",
       "prompt_number": 39,
       "text": [
        "[<matplotlib.lines.Line2D at 0x5627fd0>]"
       ]
      },
      {
       "metadata": {},
       "output_type": "display_data",
       "png": "[encoded data removed]",
       "text": [
        "<matplotlib.figure.Figure at 0x532e050>"
       ]
      }
     ],
     "prompt_number": 39
    },
    {
     "cell_type": "markdown",
     "metadata": {},
     "source": [
      "If you're going to have a basketball, you might as well have a hoop:"
     ]
    },
    {
     "cell_type": "code",
     "collapsed": false,
     "input": [
      "fig=figure(figsize=(5,5))\n",
      "xlim(-2., 2.)\n",
      "ylim(-2., 2.)\n",
      "\n",
      "hoop_x = 0\n",
      "hoop_y = 0\n",
      "\n",
      "plot([hoop_x-1,hoop_x+1], [hoop_y,hoop_y],'r-')\n",
      "fig.gca().add_patch(Polygon([[hoop_x-1,hoop_y],[hoop_x+1,hoop_y],\n",
      "                             [hoop_x+0.6,hoop_y-1.5],[hoop_x-0.6,hoop_y-1.5]],\n",
      "                             closed=True, fill=False, hatch='x'))"
     ],
     "language": "python",
     "metadata": {},
     "outputs": [
      {
       "metadata": {},
       "output_type": "pyout",
       "prompt_number": 38,
       "text": [
        "<matplotlib.patches.Polygon at 0x53201d0>"
       ]
      },
      {
       "metadata": {},
       "output_type": "display_data",
       "png": "[encoded data removed]",
       "text": [
        "<matplotlib.figure.Figure at 0x532b310>"
       ]
      }
     ],
     "prompt_number": 38
    },
    {
     "cell_type": "markdown",
     "metadata": {},
     "source": [
      "Now let's put it together. Below, I'm going to put the basketball at some initial co-ordinates, give it an initial speed, and launch it at a certain angle. We can plot its trajectory using a couple simple equations:\n",
      "\n",
      "$$\n",
      "\n",
      "$$"
     ]
    }
   ],
   "metadata": {}
  }
 ]
}