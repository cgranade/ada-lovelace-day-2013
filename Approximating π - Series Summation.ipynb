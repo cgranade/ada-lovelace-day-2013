{
 "metadata": {
  "name": "Approximating \u03c0 - Series Summation"
 },
 "nbformat": 3,
 "nbformat_minor": 0,
 "worksheets": [
  {
   "cells": [
    {
     "cell_type": "code",
     "collapsed": false,
     "input": [
      "%pylab inline\n",
      "from __future__ import division\n"
     ],
     "language": "python",
     "metadata": {},
     "outputs": [
      {
       "output_type": "stream",
       "stream": "stdout",
       "text": [
        "\n",
        "Welcome to pylab, a matplotlib-based Python environment [backend: module://IPython.zmq.pylab.backend_inline].\n",
        "For more information, type 'help(pylab)'.\n"
       ]
      }
     ],
     "prompt_number": 1
    },
    {
     "cell_type": "heading",
     "level": 1,
     "metadata": {},
     "source": [
      "Approximating $\\pi$ Using Series Summation"
     ]
    },
    {
     "cell_type": "markdown",
     "metadata": {},
     "source": [
      "While the previous two approaches to approximating $\\pi$ work, by using more clever math up front, we can greatly improve the accuracy of our calculations. In particular, rather than relying on randomness to find $\\pi$, we can explicitly write out a formula for what $\\pi$ is in terms of a mathematical object called a *series*; that is, a sum of an infinite number of terms."
     ]
    },
    {
     "cell_type": "heading",
     "level": 2,
     "metadata": {},
     "source": [
      "A Bit About Series"
     ]
    },
    {
     "cell_type": "markdown",
     "metadata": {},
     "source": [
      "As an example, consider the series\n",
      "$$\n",
      "    \\sum_{n=0}^\\infty \\frac{1}{2^n}.\n",
      "$$\n",
      "If we just look at first few terms in this series, we get that something like\n",
      "$$\n",
      "    1 + \\frac{1}{2} + \\frac{1}{4} + \\cdots\n",
      "$$\n",
      "Adding only the first term, we get $1$. Adding the first two terms, we get $3/2$, while if we add the first three terms, we get $7/4$. Using calculus, one can show that as you keep adding terms, you get closer and closer to $2$, so that we say that $2 = \\sum_{n=0}^\\infty \\frac{1}{2^n}$.\n",
      "\n",
      "Incidentially, if you ever hear someone saying that $0.999\\dots = 1$, this is why. By adding more terms of the series $\\sum_{n=1}^{\\infty}9/{10}^{n}$, you can get as close as you want to 1, so that we say that if you add the entire series together, you get $1$.\n",
      "\n",
      "If you're interested in learning more, Wikipedia has a [great deal to read about series](http://en.wikipedia.org/wiki/Series_%28mathematics%29)."
     ]
    },
    {
     "cell_type": "heading",
     "level": 2,
     "metadata": {},
     "source": [
      "So What Does This Have To Do With $\\pi$?"
     ]
    },
    {
     "cell_type": "markdown",
     "metadata": {},
     "source": [
      "The [Leibniz formula](http://en.wikipedia.org/wiki/Leibniz_formula_for_%CF%80) gives an explicit representation of $\\pi$ as\n",
      "$$\n",
      "\\pi = 4\n",
      "{\\sum}_{n=0}^\\infty\n",
      "\\frac{(-1)^n}{2n+1} = 4 \\left( 1 - \\frac{1}{3} + \\frac{1}{5} - \\frac{1}{7} \\cdots\\right).\n",
      "$$\n",
      "That is, $\\pi$ is the sum of an infinite series! Thus, we can approximate $\\pi$ by adding a finite number of terms from this series. This is a problem that computers are great for, as it reduces to performing a very simple computation a large number of times.\n",
      "\n",
      "Let's start off by writing a function to compute the $n^{\\text{th}}$ term of the Liebniz formula:"
     ]
    },
    {
     "cell_type": "code",
     "collapsed": false,
     "input": [
      "def leibniz_term(n):\n",
      "    return 4 * (-1)**n / (2 * n + 1)"
     ],
     "language": "python",
     "metadata": {},
     "outputs": [],
     "prompt_number": 2
    },
    {
     "cell_type": "code",
     "collapsed": false,
     "input": [
      "print leibniz_term(0), leibniz_term(1), leibniz_term(2)"
     ],
     "language": "python",
     "metadata": {},
     "outputs": [
      {
       "output_type": "stream",
       "stream": "stdout",
       "text": [
        "4.0 -1.33333333333 0.8\n"
       ]
      }
     ],
     "prompt_number": 3
    },
    {
     "cell_type": "markdown",
     "metadata": {},
     "source": [
      "Now we can sum up as many as we want by writing another function to take *partial sums* (that is, a sum of a finite number of terms from a series):"
     ]
    },
    {
     "cell_type": "code",
     "collapsed": false,
     "input": [
      "def partial_sum(series, start, end):\n",
      "    total = 0.0\n",
      "    for n in reversed(xrange(start, end)):\n",
      "        total += series(n)\n",
      "    return total"
     ],
     "language": "python",
     "metadata": {},
     "outputs": [],
     "prompt_number": 4
    },
    {
     "cell_type": "markdown",
     "metadata": {},
     "source": [
      "On the face of it, the function above seems a bit magic. We use it by passing ``leibniz_term`` as an argument to ``partial_sum``, as in ``partial_sum(leibniz_term, 0, 200)``. This works because, in Python, functions are *values* just like numbers and strings. Writing `partial_sum` like this, then, lets us use it for whatever series we want.\n",
      "\n",
      "Now that we've written it, let's see how well it works if we sum up the first 200 terms:"
     ]
    },
    {
     "cell_type": "code",
     "collapsed": false,
     "input": [
      "print partial_sum(leibniz_term, 0, 200)"
     ],
     "language": "python",
     "metadata": {},
     "outputs": [
      {
       "output_type": "stream",
       "stream": "stdout",
       "text": [
        "3.13659268484\n"
       ]
      }
     ],
     "prompt_number": 5
    },
    {
     "cell_type": "markdown",
     "metadata": {},
     "source": [
      "Not bad! And it's fast, too:"
     ]
    },
    {
     "cell_type": "code",
     "collapsed": false,
     "input": [
      "%timeit partial_sum(leibniz_term, 0, 200)"
     ],
     "language": "python",
     "metadata": {},
     "outputs": [
      {
       "output_type": "stream",
       "stream": "stdout",
       "text": [
        "10000 loops, best of 3: 81.7 us per loop\n"
       ]
      }
     ],
     "prompt_number": 6
    },
    {
     "cell_type": "markdown",
     "metadata": {},
     "source": [
      "On a fairly low-powered computer, it doesn't even take a whole millisecond to get that get to within about 1% of $\\pi$. In just a few hundred milliseconds, we can get five digits of accuracy."
     ]
    },
    {
     "cell_type": "code",
     "collapsed": false,
     "input": [
      "print partial_sum(leibniz_term, 0, 500000)\n",
      "%timeit partial_sum(leibniz_term, 0, 500000)"
     ],
     "language": "python",
     "metadata": {},
     "outputs": [
      {
       "output_type": "stream",
       "stream": "stdout",
       "text": [
        "3.14159065359\n",
        "1 loops, best of 3: 298 ms per loop"
       ]
      },
      {
       "output_type": "stream",
       "stream": "stdout",
       "text": [
        "\n"
       ]
      }
     ],
     "prompt_number": 7
    },
    {
     "cell_type": "code",
     "collapsed": false,
     "input": [
      "print pi"
     ],
     "language": "python",
     "metadata": {},
     "outputs": [
      {
       "output_type": "stream",
       "stream": "stdout",
       "text": [
        "3.14159265359\n"
       ]
      }
     ],
     "prompt_number": 8
    },
    {
     "cell_type": "heading",
     "level": 2,
     "metadata": {},
     "source": [
      "Doing Even Better"
     ]
    },
    {
     "cell_type": "markdown",
     "metadata": {},
     "source": [
      "Now that we have a nice little function for calculating partial sums, though, we can use it with a better series for $\\pi$ to get approximations even faster. One that is still relatively simple, but that approximates $\\pi$ much faster is a series due to Sharp, as [documented at MathWorld](http://mathworld.wolfram.com/PiFormulas.html):\n",
      "$$\n",
      "\\pi = \\sum_{n=0}^{\\infty} \\frac{2 (-1)^n 3^{1/2 - n}}{2n + 1}.\n",
      "$$\n",
      "Making a function for this in Python, we see that even 10 terms gives us a pretty reasonable approximation:"
     ]
    },
    {
     "cell_type": "code",
     "collapsed": false,
     "input": [
      "def sharp_term(n):\n",
      "    return 2 * ((-1) ** n)  * (3 ** (0.5 - n)) / (2 * n + 1)"
     ],
     "language": "python",
     "metadata": {},
     "outputs": [],
     "prompt_number": 9
    },
    {
     "cell_type": "code",
     "collapsed": false,
     "input": [
      "partial_sum(sharp_term, 0, 10)"
     ],
     "language": "python",
     "metadata": {},
     "outputs": [
      {
       "output_type": "pyout",
       "prompt_number": 10,
       "text": [
        "3.14159051093808"
       ]
      }
     ],
     "prompt_number": 10
    },
    {
     "cell_type": "markdown",
     "metadata": {},
     "source": [
      "After 20 terms, the difference from $\\pi$ is very small indeed:"
     ]
    },
    {
     "cell_type": "code",
     "collapsed": false,
     "input": [
      "partial_sum(sharp_term, 0, 20) - pi"
     ],
     "language": "python",
     "metadata": {},
     "outputs": [
      {
       "output_type": "pyout",
       "prompt_number": 11,
       "text": [
        "-1.8389734179891093e-11"
       ]
      }
     ],
     "prompt_number": 11
    },
    {
     "cell_type": "markdown",
     "metadata": {},
     "source": [
      "After 30 terms, the difference is smaller than can be calculated using the floating-point number hardware that Python uses by default:"
     ]
    },
    {
     "cell_type": "code",
     "collapsed": false,
     "input": [
      "partial_sum(sharp_term, 0, 30) - pi"
     ],
     "language": "python",
     "metadata": {},
     "outputs": [
      {
       "output_type": "pyout",
       "prompt_number": 12,
       "text": [
        "0.0"
       ]
      }
     ],
     "prompt_number": 12
    },
    {
     "cell_type": "markdown",
     "metadata": {},
     "source": [
      "But how fast is it?"
     ]
    },
    {
     "cell_type": "code",
     "collapsed": false,
     "input": [
      "%timeit partial_sum(sharp_term, 0, 30)"
     ],
     "language": "python",
     "metadata": {},
     "outputs": [
      {
       "output_type": "stream",
       "stream": "stdout",
       "text": [
        "10000 loops, best of 3: 20.2 us per loop\n"
       ]
      }
     ],
     "prompt_number": 13
    },
    {
     "cell_type": "markdown",
     "metadata": {},
     "source": [
      "To get this using the Leibnitz series would have taken much, much longer, as we only got five digits within about a second. The Monte Carlo approach takes still longer, giving not even five digits when run for a full minute."
     ]
    }
   ],
   "metadata": {}
  }
 ]
}